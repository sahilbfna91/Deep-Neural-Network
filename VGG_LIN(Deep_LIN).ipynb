{
  "nbformat": 4,
  "nbformat_minor": 0,
  "metadata": {
    "colab": {
      "name": "VGG_LIN(Deep_LIN).ipynb",
      "provenance": []
    },
    "kernelspec": {
      "name": "python3",
      "display_name": "Python 3"
    },
    "language_info": {
      "name": "python"
    },
    "accelerator": "GPU",
    "gpuClass": "standard",
    "widgets": {
      "application/vnd.jupyter.widget-state+json": {
        "952eb9b2b2ec4d1b84c8d2fc0dd8a016": {
          "model_module": "@jupyter-widgets/controls",
          "model_name": "HBoxModel",
          "model_module_version": "1.5.0",
          "state": {
            "_dom_classes": [],
            "_model_module": "@jupyter-widgets/controls",
            "_model_module_version": "1.5.0",
            "_model_name": "HBoxModel",
            "_view_count": null,
            "_view_module": "@jupyter-widgets/controls",
            "_view_module_version": "1.5.0",
            "_view_name": "HBoxView",
            "box_style": "",
            "children": [
              "IPY_MODEL_4fe0ebd3a9304d158f6b9260adf2a181",
              "IPY_MODEL_88ecdf0eade349dca68cceff82a721de",
              "IPY_MODEL_5c3f85a901264473bada886704f213d7"
            ],
            "layout": "IPY_MODEL_d924fd04269742e4b7ccc5cbe2bf4b58"
          }
        },
        "4fe0ebd3a9304d158f6b9260adf2a181": {
          "model_module": "@jupyter-widgets/controls",
          "model_name": "HTMLModel",
          "model_module_version": "1.5.0",
          "state": {
            "_dom_classes": [],
            "_model_module": "@jupyter-widgets/controls",
            "_model_module_version": "1.5.0",
            "_model_name": "HTMLModel",
            "_view_count": null,
            "_view_module": "@jupyter-widgets/controls",
            "_view_module_version": "1.5.0",
            "_view_name": "HTMLView",
            "description": "",
            "description_tooltip": null,
            "layout": "IPY_MODEL_aa8059f61a174ba98080c42a81c2f896",
            "placeholder": "​",
            "style": "IPY_MODEL_4ef8d38b9e5242d0a65678a5116dd299",
            "value": "100%"
          }
        },
        "88ecdf0eade349dca68cceff82a721de": {
          "model_module": "@jupyter-widgets/controls",
          "model_name": "FloatProgressModel",
          "model_module_version": "1.5.0",
          "state": {
            "_dom_classes": [],
            "_model_module": "@jupyter-widgets/controls",
            "_model_module_version": "1.5.0",
            "_model_name": "FloatProgressModel",
            "_view_count": null,
            "_view_module": "@jupyter-widgets/controls",
            "_view_module_version": "1.5.0",
            "_view_name": "ProgressView",
            "bar_style": "success",
            "description": "",
            "description_tooltip": null,
            "layout": "IPY_MODEL_12e52f319f8e4375af8e7a2879a91288",
            "max": 170498071,
            "min": 0,
            "orientation": "horizontal",
            "style": "IPY_MODEL_78423590f78c4fd5ad5f3d0b52ec835e",
            "value": 170498071
          }
        },
        "5c3f85a901264473bada886704f213d7": {
          "model_module": "@jupyter-widgets/controls",
          "model_name": "HTMLModel",
          "model_module_version": "1.5.0",
          "state": {
            "_dom_classes": [],
            "_model_module": "@jupyter-widgets/controls",
            "_model_module_version": "1.5.0",
            "_model_name": "HTMLModel",
            "_view_count": null,
            "_view_module": "@jupyter-widgets/controls",
            "_view_module_version": "1.5.0",
            "_view_name": "HTMLView",
            "description": "",
            "description_tooltip": null,
            "layout": "IPY_MODEL_26e4e8f77a2b4c4ca4a85d46f302e939",
            "placeholder": "​",
            "style": "IPY_MODEL_643f1691d03640baa1d1da966f719c6b",
            "value": " 170498071/170498071 [00:02&lt;00:00, 85218478.33it/s]"
          }
        },
        "d924fd04269742e4b7ccc5cbe2bf4b58": {
          "model_module": "@jupyter-widgets/base",
          "model_name": "LayoutModel",
          "model_module_version": "1.2.0",
          "state": {
            "_model_module": "@jupyter-widgets/base",
            "_model_module_version": "1.2.0",
            "_model_name": "LayoutModel",
            "_view_count": null,
            "_view_module": "@jupyter-widgets/base",
            "_view_module_version": "1.2.0",
            "_view_name": "LayoutView",
            "align_content": null,
            "align_items": null,
            "align_self": null,
            "border": null,
            "bottom": null,
            "display": null,
            "flex": null,
            "flex_flow": null,
            "grid_area": null,
            "grid_auto_columns": null,
            "grid_auto_flow": null,
            "grid_auto_rows": null,
            "grid_column": null,
            "grid_gap": null,
            "grid_row": null,
            "grid_template_areas": null,
            "grid_template_columns": null,
            "grid_template_rows": null,
            "height": null,
            "justify_content": null,
            "justify_items": null,
            "left": null,
            "margin": null,
            "max_height": null,
            "max_width": null,
            "min_height": null,
            "min_width": null,
            "object_fit": null,
            "object_position": null,
            "order": null,
            "overflow": null,
            "overflow_x": null,
            "overflow_y": null,
            "padding": null,
            "right": null,
            "top": null,
            "visibility": null,
            "width": null
          }
        },
        "aa8059f61a174ba98080c42a81c2f896": {
          "model_module": "@jupyter-widgets/base",
          "model_name": "LayoutModel",
          "model_module_version": "1.2.0",
          "state": {
            "_model_module": "@jupyter-widgets/base",
            "_model_module_version": "1.2.0",
            "_model_name": "LayoutModel",
            "_view_count": null,
            "_view_module": "@jupyter-widgets/base",
            "_view_module_version": "1.2.0",
            "_view_name": "LayoutView",
            "align_content": null,
            "align_items": null,
            "align_self": null,
            "border": null,
            "bottom": null,
            "display": null,
            "flex": null,
            "flex_flow": null,
            "grid_area": null,
            "grid_auto_columns": null,
            "grid_auto_flow": null,
            "grid_auto_rows": null,
            "grid_column": null,
            "grid_gap": null,
            "grid_row": null,
            "grid_template_areas": null,
            "grid_template_columns": null,
            "grid_template_rows": null,
            "height": null,
            "justify_content": null,
            "justify_items": null,
            "left": null,
            "margin": null,
            "max_height": null,
            "max_width": null,
            "min_height": null,
            "min_width": null,
            "object_fit": null,
            "object_position": null,
            "order": null,
            "overflow": null,
            "overflow_x": null,
            "overflow_y": null,
            "padding": null,
            "right": null,
            "top": null,
            "visibility": null,
            "width": null
          }
        },
        "4ef8d38b9e5242d0a65678a5116dd299": {
          "model_module": "@jupyter-widgets/controls",
          "model_name": "DescriptionStyleModel",
          "model_module_version": "1.5.0",
          "state": {
            "_model_module": "@jupyter-widgets/controls",
            "_model_module_version": "1.5.0",
            "_model_name": "DescriptionStyleModel",
            "_view_count": null,
            "_view_module": "@jupyter-widgets/base",
            "_view_module_version": "1.2.0",
            "_view_name": "StyleView",
            "description_width": ""
          }
        },
        "12e52f319f8e4375af8e7a2879a91288": {
          "model_module": "@jupyter-widgets/base",
          "model_name": "LayoutModel",
          "model_module_version": "1.2.0",
          "state": {
            "_model_module": "@jupyter-widgets/base",
            "_model_module_version": "1.2.0",
            "_model_name": "LayoutModel",
            "_view_count": null,
            "_view_module": "@jupyter-widgets/base",
            "_view_module_version": "1.2.0",
            "_view_name": "LayoutView",
            "align_content": null,
            "align_items": null,
            "align_self": null,
            "border": null,
            "bottom": null,
            "display": null,
            "flex": null,
            "flex_flow": null,
            "grid_area": null,
            "grid_auto_columns": null,
            "grid_auto_flow": null,
            "grid_auto_rows": null,
            "grid_column": null,
            "grid_gap": null,
            "grid_row": null,
            "grid_template_areas": null,
            "grid_template_columns": null,
            "grid_template_rows": null,
            "height": null,
            "justify_content": null,
            "justify_items": null,
            "left": null,
            "margin": null,
            "max_height": null,
            "max_width": null,
            "min_height": null,
            "min_width": null,
            "object_fit": null,
            "object_position": null,
            "order": null,
            "overflow": null,
            "overflow_x": null,
            "overflow_y": null,
            "padding": null,
            "right": null,
            "top": null,
            "visibility": null,
            "width": null
          }
        },
        "78423590f78c4fd5ad5f3d0b52ec835e": {
          "model_module": "@jupyter-widgets/controls",
          "model_name": "ProgressStyleModel",
          "model_module_version": "1.5.0",
          "state": {
            "_model_module": "@jupyter-widgets/controls",
            "_model_module_version": "1.5.0",
            "_model_name": "ProgressStyleModel",
            "_view_count": null,
            "_view_module": "@jupyter-widgets/base",
            "_view_module_version": "1.2.0",
            "_view_name": "StyleView",
            "bar_color": null,
            "description_width": ""
          }
        },
        "26e4e8f77a2b4c4ca4a85d46f302e939": {
          "model_module": "@jupyter-widgets/base",
          "model_name": "LayoutModel",
          "model_module_version": "1.2.0",
          "state": {
            "_model_module": "@jupyter-widgets/base",
            "_model_module_version": "1.2.0",
            "_model_name": "LayoutModel",
            "_view_count": null,
            "_view_module": "@jupyter-widgets/base",
            "_view_module_version": "1.2.0",
            "_view_name": "LayoutView",
            "align_content": null,
            "align_items": null,
            "align_self": null,
            "border": null,
            "bottom": null,
            "display": null,
            "flex": null,
            "flex_flow": null,
            "grid_area": null,
            "grid_auto_columns": null,
            "grid_auto_flow": null,
            "grid_auto_rows": null,
            "grid_column": null,
            "grid_gap": null,
            "grid_row": null,
            "grid_template_areas": null,
            "grid_template_columns": null,
            "grid_template_rows": null,
            "height": null,
            "justify_content": null,
            "justify_items": null,
            "left": null,
            "margin": null,
            "max_height": null,
            "max_width": null,
            "min_height": null,
            "min_width": null,
            "object_fit": null,
            "object_position": null,
            "order": null,
            "overflow": null,
            "overflow_x": null,
            "overflow_y": null,
            "padding": null,
            "right": null,
            "top": null,
            "visibility": null,
            "width": null
          }
        },
        "643f1691d03640baa1d1da966f719c6b": {
          "model_module": "@jupyter-widgets/controls",
          "model_name": "DescriptionStyleModel",
          "model_module_version": "1.5.0",
          "state": {
            "_model_module": "@jupyter-widgets/controls",
            "_model_module_version": "1.5.0",
            "_model_name": "DescriptionStyleModel",
            "_view_count": null,
            "_view_module": "@jupyter-widgets/base",
            "_view_module_version": "1.2.0",
            "_view_name": "StyleView",
            "description_width": ""
          }
        }
      }
    }
  },
  "cells": [
    {
      "cell_type": "code",
      "execution_count": null,
      "metadata": {
        "id": "GRAyRe91sSj4"
      },
      "outputs": [],
      "source": [
        "import torch\n",
        "import torchvision\n",
        "import numpy as np\n",
        "import matplotlib.pyplot as plt\n",
        "import torch.nn as nn\n",
        "import torch.nn.functional as F\n",
        "from torchvision.datasets import CIFAR10\n",
        "from torchvision.transforms import ToTensor\n",
        "from torchvision.utils import make_grid\n",
        "from torch.utils.data.dataloader import DataLoader\n",
        "from torch.utils.data import random_split"
      ]
    },
    {
      "cell_type": "code",
      "source": [
        "dataset = CIFAR10(root='data/', download=True, transform=ToTensor())\n",
        "test_dataset = CIFAR10(root='data/', train=False, transform=ToTensor())"
      ],
      "metadata": {
        "id": "XxfD95wqsVmx",
        "colab": {
          "base_uri": "https://localhost:8080/",
          "height": 85,
          "referenced_widgets": [
            "952eb9b2b2ec4d1b84c8d2fc0dd8a016",
            "4fe0ebd3a9304d158f6b9260adf2a181",
            "88ecdf0eade349dca68cceff82a721de",
            "5c3f85a901264473bada886704f213d7",
            "d924fd04269742e4b7ccc5cbe2bf4b58",
            "aa8059f61a174ba98080c42a81c2f896",
            "4ef8d38b9e5242d0a65678a5116dd299",
            "12e52f319f8e4375af8e7a2879a91288",
            "78423590f78c4fd5ad5f3d0b52ec835e",
            "26e4e8f77a2b4c4ca4a85d46f302e939",
            "643f1691d03640baa1d1da966f719c6b"
          ]
        },
        "outputId": "e83ecfcd-7fad-46e3-a2c2-fc95632ca1bb"
      },
      "execution_count": null,
      "outputs": [
        {
          "output_type": "stream",
          "name": "stdout",
          "text": [
            "Downloading https://www.cs.toronto.edu/~kriz/cifar-10-python.tar.gz to data/cifar-10-python.tar.gz\n"
          ]
        },
        {
          "output_type": "display_data",
          "data": {
            "text/plain": [
              "  0%|          | 0/170498071 [00:00<?, ?it/s]"
            ],
            "application/vnd.jupyter.widget-view+json": {
              "version_major": 2,
              "version_minor": 0,
              "model_id": "952eb9b2b2ec4d1b84c8d2fc0dd8a016"
            }
          },
          "metadata": {}
        },
        {
          "output_type": "stream",
          "name": "stdout",
          "text": [
            "Extracting data/cifar-10-python.tar.gz to data/\n"
          ]
        }
      ]
    },
    {
      "cell_type": "code",
      "source": [
        "torch.manual_seed(43)\n",
        "val_size = 5000\n",
        "train_size = len(dataset) - val_size\n",
        "train_ds, val_ds = random_split(dataset, [train_size, val_size])\n",
        "len(train_ds), len(val_ds)  \n",
        "batch_size=125"
      ],
      "metadata": {
        "id": "L1VdZfcEsXSZ"
      },
      "execution_count": null,
      "outputs": []
    },
    {
      "cell_type": "code",
      "source": [
        "train_loader = DataLoader(train_ds, batch_size, shuffle=True, num_workers=4, pin_memory=True)\n",
        "val_loader = DataLoader(val_ds, batch_size, num_workers=4, pin_memory=True)\n",
        "test_loader = DataLoader(test_dataset, batch_size, num_workers=4, pin_memory=True)"
      ],
      "metadata": {
        "id": "g2FOa22fsZJT",
        "colab": {
          "base_uri": "https://localhost:8080/"
        },
        "outputId": "6321b3f2-e863-4eff-9ffc-97dd421c1fbe"
      },
      "execution_count": null,
      "outputs": [
        {
          "output_type": "stream",
          "name": "stderr",
          "text": [
            "/usr/local/lib/python3.7/dist-packages/torch/utils/data/dataloader.py:560: UserWarning: This DataLoader will create 4 worker processes in total. Our suggested max number of worker in current system is 2, which is smaller than what this DataLoader is going to create. Please be aware that excessive worker creation might get DataLoader running slow or even freeze, lower the worker number to avoid potential slowness/freeze if necessary.\n",
            "  cpuset_checked))\n"
          ]
        }
      ]
    },
    {
      "cell_type": "code",
      "source": [
        "for batch ,labels in train_loader:\n",
        "  print(batch.shape)\n",
        "\n",
        "x=torch.ones(batch.shape)\n",
        "print(x.shape)\n"
      ],
      "metadata": {
        "id": "Wlem7__aWwT_"
      },
      "execution_count": null,
      "outputs": []
    },
    {
      "cell_type": "code",
      "source": [
        "input_size = 3*32*32\n",
        "output_size = 10"
      ],
      "metadata": {
        "id": "aCs4377esa72"
      },
      "execution_count": null,
      "outputs": []
    },
    {
      "cell_type": "code",
      "source": [
        "\n",
        "class VGGNEW(nn.Module):\n",
        "    def __init__(self):\n",
        "        super().__init__()\n",
        "        self.C11= nn.Conv2d(3, 64, kernel_size=3, padding=1)\n",
        "        self.B11=nn.BatchNorm2d(64)\n",
        "        self.M11=nn.AvgPool2d(2,2)\n",
        "        \n",
        "\n",
        "        self.C12=nn.Conv2d(64, 64, kernel_size=(3, 3),padding=1)\n",
        "        self.B12=nn.BatchNorm2d(64)\n",
        "        self.M12=nn.AvgPool2d(2,2)\n",
        "        \n",
        "\n",
        "        self.C21=nn.Conv2d(64, 128,kernel_size=(3, 3), padding=(1, 1))\n",
        "        self.B21=nn.BatchNorm2d(128)\n",
        "        self.M21=nn.AvgPool2d(2,2,padding=1)\n",
        "\n",
        "        self.C22=nn.Conv2d(128, 128, kernel_size=(3, 3), padding=(1, 1))\n",
        "        self.B22=nn.BatchNorm2d(128)\n",
        "        self.M22=nn.AvgPool2d(2,2,padding=1)\n",
        "\n",
        "        self.C31=nn.Conv2d(128, 256, kernel_size=(3, 3), padding=(1, 1))\n",
        "        self.B31=nn.BatchNorm2d(256)\n",
        "        self.M31=nn.AvgPool2d(2,2,padding=1)\n",
        "\n",
        "        self.C32=nn.Conv2d(256, 256, kernel_size=(3, 3),  padding=(1, 1))\n",
        "        self.B32=nn.BatchNorm2d(256)\n",
        "        self.M32=nn.AvgPool2d(2,2,padding=1)\n",
        "\n",
        "        self.C33=nn.Conv2d(256, 256, kernel_size=(3, 3),  padding=(1, 1))\n",
        "        self.B33=nn.BatchNorm2d(256)\n",
        "        self.M33=nn.AvgPool2d(2,2,padding=1)\n",
        "\n",
        "        self.C41=nn.Conv2d(256, 512, kernel_size=(3, 3),  padding=(1, 1))\n",
        "        self.B41=nn.BatchNorm2d(512)\n",
        "        self.M41=nn.AvgPool2d(2,2,padding=1)\n",
        "\n",
        "        self.C42=nn.Conv2d(512, 512, kernel_size=(3, 3),  padding=(1, 1))\n",
        "        self.B42=nn.BatchNorm2d(512)\n",
        "        self.M42=nn.AvgPool2d(2,2,padding=1)\n",
        "\n",
        "        self.C43=nn.Conv2d(512, 512, kernel_size=(3, 3),  padding=(1, 1))\n",
        "        self.B43=nn.BatchNorm2d(512)\n",
        "        self.M43=nn.AvgPool2d(2,2,padding=1)\n",
        "\n",
        "        self.C51=nn.Conv2d(512, 512, kernel_size=(3, 3), padding=(1, 1))\n",
        "        self.B51=nn.BatchNorm2d(512)\n",
        "        self.M51=nn.AvgPool2d(2,2,padding=1)\n",
        "\n",
        "        self.C52=nn.Conv2d(512, 512, kernel_size=(3, 3),  padding=(1, 1))\n",
        "        self.B52=nn.BatchNorm2d(512)\n",
        "        self.M52=nn.AvgPool2d(2,2,padding=1)\n",
        "\n",
        "        self.C53=nn.Conv2d(512, 512, kernel_size=(3, 3), padding=(1, 1))\n",
        "        self.B53=nn.BatchNorm2d(512)\n",
        "        self.M53=nn.AvgPool2d(2,2,padding=1)\n",
        "\n",
        "        self.FF=nn.Flatten()\n",
        "        self.L1=nn.Linear(in_features=2048, out_features=4096, bias=True)\n",
        "        self.L2=nn.Linear(in_features=4096, out_features=4096, bias=True)\n",
        "        self.L3=nn.Linear(in_features=4096, out_features=10, bias=True)\n",
        "\n",
        "        \n",
        "    def forward(self, xb):\n",
        "        #out = xb.view(xb.size(0), -1)\n",
        "        self.G=[]\n",
        "        SIGMOID=torch.nn.Sigmoid()\n",
        "        beta=10\n",
        "\n",
        "        out = self.C11(xb)\n",
        "        out=self.B11(out)\n",
        "        out = self.M11(out)\n",
        "        \n",
        "        out = self.C12(out)\n",
        "        out=self.B12(out)\n",
        "        out = self.M12(out)\n",
        "        \n",
        "        out = self.C21(out)\n",
        "        out=self.B21(out)\n",
        "        out = self.M21(out)\n",
        "        \n",
        "        out = self.C22(out)\n",
        "        out=self.B22(out)\n",
        "        out = self.M22(out)\n",
        "        \n",
        "        out = self.C31(out)\n",
        "        out=self.B31(out)\n",
        "        out = self.M31(out)\n",
        "        \n",
        "        out = self.C32(out)\n",
        "        out=self.B32(out)\n",
        "        out = self.M32(out)\n",
        "        \n",
        "        out = self.C33(out)\n",
        "        out=self.B33(out)\n",
        "        out = self.M33(out)\n",
        "        \n",
        "        out = self.C41(out)\n",
        "        out=self.B41(out)\n",
        "        out = self.M41(out)\n",
        "        \n",
        "        out = self.C42(out)\n",
        "        out=self.B42(out)\n",
        "        out = self.M42(out)\n",
        "        \n",
        "        out = self.C43(out)\n",
        "        out=self.B43(out)\n",
        "        out = self.M43(out)\n",
        "        \n",
        "        out = self.C51(out)\n",
        "        out=self.B51(out)\n",
        "        out = self.M51(out)\n",
        "        \n",
        "        out = self.C52(out)\n",
        "        out=self.B52(out)\n",
        "        out = self.M52(out)\n",
        "\n",
        "        out = self.C53(out)\n",
        "        out=self.B53(out)\n",
        "        out = self.M53(out)\n",
        "\n",
        "        out=self.FF(out)\n",
        "        out=self.L1(out)\n",
        "        out=self.L2(out)\n",
        "        out = self.L3(out)\n",
        "        return out\n",
        "    def gate(self):\n",
        "      return self.G"
      ],
      "metadata": {
        "id": "L0PzJ4z4sbkq"
      },
      "execution_count": null,
      "outputs": []
    },
    {
      "cell_type": "code",
      "source": [
        "Model=VGGNEW()\n",
        "Model"
      ],
      "metadata": {
        "id": "POwpxmWbs2qT",
        "colab": {
          "base_uri": "https://localhost:8080/"
        },
        "outputId": "5125d436-9652-4aaa-f8d9-0b5641683f7b"
      },
      "execution_count": null,
      "outputs": [
        {
          "output_type": "execute_result",
          "data": {
            "text/plain": [
              "VGGNEW(\n",
              "  (C11): Conv2d(3, 64, kernel_size=(3, 3), stride=(1, 1), padding=(1, 1))\n",
              "  (B11): BatchNorm2d(64, eps=1e-05, momentum=0.1, affine=True, track_running_stats=True)\n",
              "  (M11): AvgPool2d(kernel_size=2, stride=2, padding=0)\n",
              "  (C12): Conv2d(64, 64, kernel_size=(3, 3), stride=(1, 1), padding=(1, 1))\n",
              "  (B12): BatchNorm2d(64, eps=1e-05, momentum=0.1, affine=True, track_running_stats=True)\n",
              "  (M12): AvgPool2d(kernel_size=2, stride=2, padding=0)\n",
              "  (C21): Conv2d(64, 128, kernel_size=(3, 3), stride=(1, 1), padding=(1, 1))\n",
              "  (B21): BatchNorm2d(128, eps=1e-05, momentum=0.1, affine=True, track_running_stats=True)\n",
              "  (M21): AvgPool2d(kernel_size=2, stride=2, padding=1)\n",
              "  (C22): Conv2d(128, 128, kernel_size=(3, 3), stride=(1, 1), padding=(1, 1))\n",
              "  (B22): BatchNorm2d(128, eps=1e-05, momentum=0.1, affine=True, track_running_stats=True)\n",
              "  (M22): AvgPool2d(kernel_size=2, stride=2, padding=1)\n",
              "  (C31): Conv2d(128, 256, kernel_size=(3, 3), stride=(1, 1), padding=(1, 1))\n",
              "  (B31): BatchNorm2d(256, eps=1e-05, momentum=0.1, affine=True, track_running_stats=True)\n",
              "  (M31): AvgPool2d(kernel_size=2, stride=2, padding=1)\n",
              "  (C32): Conv2d(256, 256, kernel_size=(3, 3), stride=(1, 1), padding=(1, 1))\n",
              "  (B32): BatchNorm2d(256, eps=1e-05, momentum=0.1, affine=True, track_running_stats=True)\n",
              "  (M32): AvgPool2d(kernel_size=2, stride=2, padding=1)\n",
              "  (C33): Conv2d(256, 256, kernel_size=(3, 3), stride=(1, 1), padding=(1, 1))\n",
              "  (B33): BatchNorm2d(256, eps=1e-05, momentum=0.1, affine=True, track_running_stats=True)\n",
              "  (M33): AvgPool2d(kernel_size=2, stride=2, padding=1)\n",
              "  (C41): Conv2d(256, 512, kernel_size=(3, 3), stride=(1, 1), padding=(1, 1))\n",
              "  (B41): BatchNorm2d(512, eps=1e-05, momentum=0.1, affine=True, track_running_stats=True)\n",
              "  (M41): AvgPool2d(kernel_size=2, stride=2, padding=1)\n",
              "  (C42): Conv2d(512, 512, kernel_size=(3, 3), stride=(1, 1), padding=(1, 1))\n",
              "  (B42): BatchNorm2d(512, eps=1e-05, momentum=0.1, affine=True, track_running_stats=True)\n",
              "  (M42): AvgPool2d(kernel_size=2, stride=2, padding=1)\n",
              "  (C43): Conv2d(512, 512, kernel_size=(3, 3), stride=(1, 1), padding=(1, 1))\n",
              "  (B43): BatchNorm2d(512, eps=1e-05, momentum=0.1, affine=True, track_running_stats=True)\n",
              "  (M43): AvgPool2d(kernel_size=2, stride=2, padding=1)\n",
              "  (C51): Conv2d(512, 512, kernel_size=(3, 3), stride=(1, 1), padding=(1, 1))\n",
              "  (B51): BatchNorm2d(512, eps=1e-05, momentum=0.1, affine=True, track_running_stats=True)\n",
              "  (M51): AvgPool2d(kernel_size=2, stride=2, padding=1)\n",
              "  (C52): Conv2d(512, 512, kernel_size=(3, 3), stride=(1, 1), padding=(1, 1))\n",
              "  (B52): BatchNorm2d(512, eps=1e-05, momentum=0.1, affine=True, track_running_stats=True)\n",
              "  (M52): AvgPool2d(kernel_size=2, stride=2, padding=1)\n",
              "  (C53): Conv2d(512, 512, kernel_size=(3, 3), stride=(1, 1), padding=(1, 1))\n",
              "  (B53): BatchNorm2d(512, eps=1e-05, momentum=0.1, affine=True, track_running_stats=True)\n",
              "  (M53): AvgPool2d(kernel_size=2, stride=2, padding=1)\n",
              "  (FF): Flatten(start_dim=1, end_dim=-1)\n",
              "  (L1): Linear(in_features=2048, out_features=4096, bias=True)\n",
              "  (L2): Linear(in_features=4096, out_features=4096, bias=True)\n",
              "  (L3): Linear(in_features=4096, out_features=10, bias=True)\n",
              ")"
            ]
          },
          "metadata": {},
          "execution_count": 8
        }
      ]
    },
    {
      "cell_type": "code",
      "source": [
        "criterion = nn.CrossEntropyLoss()\n",
        "def fit(epochs, lr, model, train_loader, val_loader, opt_func=torch.optim.SGD):\n",
        "    history = []\n",
        "    optimizer = opt_func(model.parameters(),lr)\n",
        "    for epoch in range(epochs): \n",
        "        for batch,labels in train_loader:\n",
        "            out = model.forward(batch)\n",
        "            loss = criterion(out,labels)\n",
        "            loss.backward()\n",
        "            optimizer.step()\n",
        "            \n",
        "            optimizer.zero_grad()\n",
        "        \n",
        "        if (epoch+1) % 1 == 0:\n",
        "          print (f'Epoch [{epoch+1}/{epochs}], Loss: {loss.item():.4f}')"
      ],
      "metadata": {
        "id": "dfYayKEls4GT"
      },
      "execution_count": null,
      "outputs": []
    },
    {
      "cell_type": "code",
      "source": [
        "fit(1,0.001,Model,train_loader,val_loader) "
      ],
      "metadata": {
        "id": "IBHb_aGis50L",
        "colab": {
          "base_uri": "https://localhost:8080/"
        },
        "outputId": "76cb35dc-56c1-4fa7-c9ba-471aff2f71a5"
      },
      "execution_count": null,
      "outputs": [
        {
          "output_type": "stream",
          "name": "stderr",
          "text": [
            "/usr/local/lib/python3.7/dist-packages/torch/utils/data/dataloader.py:560: UserWarning: This DataLoader will create 4 worker processes in total. Our suggested max number of worker in current system is 2, which is smaller than what this DataLoader is going to create. Please be aware that excessive worker creation might get DataLoader running slow or even freeze, lower the worker number to avoid potential slowness/freeze if necessary.\n",
            "  cpuset_checked))\n"
          ]
        },
        {
          "output_type": "stream",
          "name": "stdout",
          "text": [
            "Epoch [1/1], Loss: 1.9505\n"
          ]
        }
      ]
    },
    {
      "cell_type": "code",
      "source": [
        "#Testing the model \n",
        "n_correct = 0\n",
        "n_samples = 0\n",
        "for images, labels in test_loader:\n",
        "  labels = labels\n",
        "  outputs = Model.forward(images)\n",
        "  # max returns (value ,index)\n",
        "  _, predicted = torch.max(outputs.data, 1)\n",
        "  n_samples += labels.size(0)\n",
        "  n_correct += (predicted == labels).sum().item()  \n",
        "acc = 100.0 * n_correct / n_samples\n",
        "print(f'Accuracy of the network on the 10000 test images: {acc} %')"
      ],
      "metadata": {
        "id": "Nsew-9Nks727",
        "colab": {
          "base_uri": "https://localhost:8080/"
        },
        "outputId": "93662435-26d5-4792-f827-6716b758d73f"
      },
      "execution_count": null,
      "outputs": [
        {
          "output_type": "stream",
          "name": "stderr",
          "text": [
            "/usr/local/lib/python3.7/dist-packages/torch/utils/data/dataloader.py:560: UserWarning: This DataLoader will create 4 worker processes in total. Our suggested max number of worker in current system is 2, which is smaller than what this DataLoader is going to create. Please be aware that excessive worker creation might get DataLoader running slow or even freeze, lower the worker number to avoid potential slowness/freeze if necessary.\n",
            "  cpuset_checked))\n"
          ]
        },
        {
          "output_type": "stream",
          "name": "stdout",
          "text": [
            "Accuracy of the network on the 10000 test images: 33.04 %\n"
          ]
        }
      ]
    }
  ]
}